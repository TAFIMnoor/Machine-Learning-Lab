{
  "nbformat": 4,
  "nbformat_minor": 0,
  "metadata": {
    "colab": {
      "provenance": [],
      "collapsed_sections": []
    },
    "kernelspec": {
      "name": "python3",
      "display_name": "Python 3"
    },
    "language_info": {
      "name": "python"
    }
  },
  "cells": [
    {
      "cell_type": "code",
      "source": [
        "import pandas as pd\n",
        "import matplotlib.pyplot as plt\n",
        "import csv\n",
        "import numpy as np\n",
        "import seaborn as sns\n",
        "from google.colab import drive\n",
        "drive.mount('/content/drive')"
      ],
      "metadata": {
        "colab": {
          "base_uri": "https://localhost:8080/"
        },
        "id": "81elzi95XlBP",
        "outputId": "c84c79bc-b2ee-4239-93eb-b7bc798de1ac"
      },
      "execution_count": 14,
      "outputs": [
        {
          "output_type": "stream",
          "name": "stdout",
          "text": [
            "Drive already mounted at /content/drive; to attempt to forcibly remount, call drive.mount(\"/content/drive\", force_remount=True).\n"
          ]
        }
      ]
    },
    {
      "cell_type": "code",
      "source": [
        "data_path = '/content/drive/MyDrive/data2.txt'\n",
        "data = pd.read_csv(data_path, header=None, names = [\"x1\",\"x2\",\"y\"])\n",
        "data.head()"
      ],
      "metadata": {
        "colab": {
          "base_uri": "https://localhost:8080/",
          "height": 206
        },
        "id": "cjxRwMRTX5gI",
        "outputId": "24785d58-877a-4bfe-a17f-f2b61f05bd21"
      },
      "execution_count": 15,
      "outputs": [
        {
          "output_type": "execute_result",
          "data": {
            "text/plain": [
              "         x1       x2  y\n",
              "0  0.051267  0.69956  1\n",
              "1 -0.092742  0.68494  1\n",
              "2 -0.213710  0.69225  1\n",
              "3 -0.375000  0.50219  1\n",
              "4 -0.513250  0.46564  1"
            ],
            "text/html": [
              "\n",
              "  <div id=\"df-a4a3362b-ac80-4113-84fb-e655b7e42ca4\">\n",
              "    <div class=\"colab-df-container\">\n",
              "      <div>\n",
              "<style scoped>\n",
              "    .dataframe tbody tr th:only-of-type {\n",
              "        vertical-align: middle;\n",
              "    }\n",
              "\n",
              "    .dataframe tbody tr th {\n",
              "        vertical-align: top;\n",
              "    }\n",
              "\n",
              "    .dataframe thead th {\n",
              "        text-align: right;\n",
              "    }\n",
              "</style>\n",
              "<table border=\"1\" class=\"dataframe\">\n",
              "  <thead>\n",
              "    <tr style=\"text-align: right;\">\n",
              "      <th></th>\n",
              "      <th>x1</th>\n",
              "      <th>x2</th>\n",
              "      <th>y</th>\n",
              "    </tr>\n",
              "  </thead>\n",
              "  <tbody>\n",
              "    <tr>\n",
              "      <th>0</th>\n",
              "      <td>0.051267</td>\n",
              "      <td>0.69956</td>\n",
              "      <td>1</td>\n",
              "    </tr>\n",
              "    <tr>\n",
              "      <th>1</th>\n",
              "      <td>-0.092742</td>\n",
              "      <td>0.68494</td>\n",
              "      <td>1</td>\n",
              "    </tr>\n",
              "    <tr>\n",
              "      <th>2</th>\n",
              "      <td>-0.213710</td>\n",
              "      <td>0.69225</td>\n",
              "      <td>1</td>\n",
              "    </tr>\n",
              "    <tr>\n",
              "      <th>3</th>\n",
              "      <td>-0.375000</td>\n",
              "      <td>0.50219</td>\n",
              "      <td>1</td>\n",
              "    </tr>\n",
              "    <tr>\n",
              "      <th>4</th>\n",
              "      <td>-0.513250</td>\n",
              "      <td>0.46564</td>\n",
              "      <td>1</td>\n",
              "    </tr>\n",
              "  </tbody>\n",
              "</table>\n",
              "</div>\n",
              "      <button class=\"colab-df-convert\" onclick=\"convertToInteractive('df-a4a3362b-ac80-4113-84fb-e655b7e42ca4')\"\n",
              "              title=\"Convert this dataframe to an interactive table.\"\n",
              "              style=\"display:none;\">\n",
              "        \n",
              "  <svg xmlns=\"http://www.w3.org/2000/svg\" height=\"24px\"viewBox=\"0 0 24 24\"\n",
              "       width=\"24px\">\n",
              "    <path d=\"M0 0h24v24H0V0z\" fill=\"none\"/>\n",
              "    <path d=\"M18.56 5.44l.94 2.06.94-2.06 2.06-.94-2.06-.94-.94-2.06-.94 2.06-2.06.94zm-11 1L8.5 8.5l.94-2.06 2.06-.94-2.06-.94L8.5 2.5l-.94 2.06-2.06.94zm10 10l.94 2.06.94-2.06 2.06-.94-2.06-.94-.94-2.06-.94 2.06-2.06.94z\"/><path d=\"M17.41 7.96l-1.37-1.37c-.4-.4-.92-.59-1.43-.59-.52 0-1.04.2-1.43.59L10.3 9.45l-7.72 7.72c-.78.78-.78 2.05 0 2.83L4 21.41c.39.39.9.59 1.41.59.51 0 1.02-.2 1.41-.59l7.78-7.78 2.81-2.81c.8-.78.8-2.07 0-2.86zM5.41 20L4 18.59l7.72-7.72 1.47 1.35L5.41 20z\"/>\n",
              "  </svg>\n",
              "      </button>\n",
              "      \n",
              "  <style>\n",
              "    .colab-df-container {\n",
              "      display:flex;\n",
              "      flex-wrap:wrap;\n",
              "      gap: 12px;\n",
              "    }\n",
              "\n",
              "    .colab-df-convert {\n",
              "      background-color: #E8F0FE;\n",
              "      border: none;\n",
              "      border-radius: 50%;\n",
              "      cursor: pointer;\n",
              "      display: none;\n",
              "      fill: #1967D2;\n",
              "      height: 32px;\n",
              "      padding: 0 0 0 0;\n",
              "      width: 32px;\n",
              "    }\n",
              "\n",
              "    .colab-df-convert:hover {\n",
              "      background-color: #E2EBFA;\n",
              "      box-shadow: 0px 1px 2px rgba(60, 64, 67, 0.3), 0px 1px 3px 1px rgba(60, 64, 67, 0.15);\n",
              "      fill: #174EA6;\n",
              "    }\n",
              "\n",
              "    [theme=dark] .colab-df-convert {\n",
              "      background-color: #3B4455;\n",
              "      fill: #D2E3FC;\n",
              "    }\n",
              "\n",
              "    [theme=dark] .colab-df-convert:hover {\n",
              "      background-color: #434B5C;\n",
              "      box-shadow: 0px 1px 3px 1px rgba(0, 0, 0, 0.15);\n",
              "      filter: drop-shadow(0px 1px 2px rgba(0, 0, 0, 0.3));\n",
              "      fill: #FFFFFF;\n",
              "    }\n",
              "  </style>\n",
              "\n",
              "      <script>\n",
              "        const buttonEl =\n",
              "          document.querySelector('#df-a4a3362b-ac80-4113-84fb-e655b7e42ca4 button.colab-df-convert');\n",
              "        buttonEl.style.display =\n",
              "          google.colab.kernel.accessAllowed ? 'block' : 'none';\n",
              "\n",
              "        async function convertToInteractive(key) {\n",
              "          const element = document.querySelector('#df-a4a3362b-ac80-4113-84fb-e655b7e42ca4');\n",
              "          const dataTable =\n",
              "            await google.colab.kernel.invokeFunction('convertToInteractive',\n",
              "                                                     [key], {});\n",
              "          if (!dataTable) return;\n",
              "\n",
              "          const docLinkHtml = 'Like what you see? Visit the ' +\n",
              "            '<a target=\"_blank\" href=https://colab.research.google.com/notebooks/data_table.ipynb>data table notebook</a>'\n",
              "            + ' to learn more about interactive tables.';\n",
              "          element.innerHTML = '';\n",
              "          dataTable['output_type'] = 'display_data';\n",
              "          await google.colab.output.renderOutput(dataTable, element);\n",
              "          const docLink = document.createElement('div');\n",
              "          docLink.innerHTML = docLinkHtml;\n",
              "          element.appendChild(docLink);\n",
              "        }\n",
              "      </script>\n",
              "    </div>\n",
              "  </div>\n",
              "  "
            ]
          },
          "metadata": {},
          "execution_count": 15
        }
      ]
    },
    {
      "cell_type": "code",
      "source": [
        "def plotData(data, label_x, label_y, label_pos, label_neg, axes=None):\n",
        "    # Get indexes for class 0 and class 1\n",
        "    neg = data['y'] == 0\n",
        "    pos = data['y'] == 1\n",
        "    \n",
        "    # If no specific axes object has been passed, get the current axes.\n",
        "    if axes == None:\n",
        "        axes = plt.gca()\n",
        "    axes.scatter(data[pos]['x1'], data[pos]['x2'], marker='+', c='orange', s=60, linewidth=2, label=label_pos)\n",
        "    axes.scatter(data[neg]['x1'], data[neg]['x2'], c='blue', s=60, label=label_neg)\n",
        "    axes.set_xlabel(label_x)\n",
        "    axes.set_ylabel(label_y)\n",
        "    axes.legend(frameon= True, fancybox = True);\n",
        "\n",
        "\n",
        "plotData(data, 'Microchip Test 1', 'Microchip Test 2', 'y = 1', 'y = 0')"
      ],
      "metadata": {
        "colab": {
          "base_uri": "https://localhost:8080/",
          "height": 279
        },
        "id": "b0CoDmmxYBBv",
        "outputId": "3495688b-6572-42df-bafa-599ca4e237f0"
      },
      "execution_count": 16,
      "outputs": [
        {
          "output_type": "display_data",
          "data": {
            "text/plain": [
              "<Figure size 432x288 with 1 Axes>"
            ],
            "image/png": "[encoded data removed]"
          },
          "metadata": {
            "needs_background": "light"
          }
        }
      ]
    },
    {
      "cell_type": "code",
      "source": [
        "n = data.shape[1]-1\n",
        "x = data[data.columns[0:n]]\n",
        "\n",
        "y = data[data.columns[n:n+1]]\n",
        "# convert to np.array\n",
        "X = x.values\n",
        "y = y.values"
      ],
      "metadata": {
        "id": "J3DyyvTrYK8u"
      },
      "execution_count": 17,
      "outputs": []
    },
    {
      "cell_type": "code",
      "source": [
        "##all possible combination of x and y for given degrees\n",
        "def mapFeature( x1col, x2col):\n",
        "    degrees = 8\n",
        "    out = np.ones( (x1col.shape[0], 1) )\n",
        "    # print(out.shape)\n",
        "\n",
        "    for i in range(1, degrees+1):\n",
        "        for j in range(0, i+1):\n",
        "            term1 = x1col ** (i-j)\n",
        "            term2 = x2col ** (j)\n",
        "            term = (term1 * term2).reshape( term1.shape[0], 1 ) \n",
        "            out = np.hstack(( out, term ))\n",
        "    return out"
      ],
      "metadata": {
        "id": "CqU88RlBZ6Ue"
      },
      "execution_count": 18,
      "outputs": []
    },
    {
      "cell_type": "code",
      "source": [
        "XX = mapFeature(X[:,0],X[:,1])\n",
        "print(X.shape, XX.shape)"
      ],
      "metadata": {
        "colab": {
          "base_uri": "https://localhost:8080/"
        },
        "id": "wa7HuCk8aNjG",
        "outputId": "f9dc1e3d-ed6e-43e3-e374-f582f5e39a12"
      },
      "execution_count": 19,
      "outputs": [
        {
          "output_type": "stream",
          "name": "stdout",
          "text": [
            "(118, 2) (118, 45)\n"
          ]
        }
      ]
    },
    {
      "cell_type": "code",
      "source": [
        "from scipy.special import expit #Vectorized sigmoid function\n",
        "\n",
        "#Hypothesis function and cost function for logistic regression\n",
        "def h(mytheta,myX): #Logistic hypothesis function\n",
        "    return expit(np.dot(myX,mytheta))"
      ],
      "metadata": {
        "id": "bs_WvgfxarTm"
      },
      "execution_count": 20,
      "outputs": []
    },
    {
      "cell_type": "code",
      "source": [
        "#Cost function, default lambda (regularization) 0\n",
        "def computeCost(mytheta,myX,myy,mylambda = 0.): \n",
        "\n",
        "    m = myy.size # number of training examples\n",
        "\n",
        "    term1 = np.dot(-np.array(myy).T,np.log(h(mytheta,myX)))\n",
        "    term2 = np.dot((1-np.array(myy)).T,np.log(1-h(mytheta,myX)))\n",
        "    regterm = (mylambda/2) * np.sum(np.dot(mytheta[1:].T,mytheta[1:])) #Skip theta0\n",
        "    return float( (1./m) * ( np.sum(term1 - term2) + regterm ) )"
      ],
      "metadata": {
        "id": "pnPIJpOAbcAd"
      },
      "execution_count": 21,
      "outputs": []
    },
    {
      "cell_type": "code",
      "source": [
        "def sigmoid(z):\n",
        "    z = np.clip( z, -500, 500 )           # protect against overflow\n",
        "    g = 1.0/(1.0+np.exp(-z))\n",
        "    return g"
      ],
      "metadata": {
        "id": "ul-OqZQXcdht"
      },
      "execution_count": 22,
      "outputs": []
    },
    {
      "cell_type": "code",
      "source": [
        "# from scipy import optimize\n",
        "import copy\n",
        "import math\n",
        "initial_theta = np.zeros(XX.shape[1])\n",
        "print(initial_theta.shape)\n",
        "\n",
        "# used optimize.minimize function\n",
        "\n",
        "def optimizeRegularizedTheta(mytheta, myX, myy, alpha, num_iters, mylambda=0.):\n",
        "  m = myX.shape[0]\n",
        "  d_list = []\n",
        "  w = copy.deepcopy(mytheta)\n",
        "\n",
        "  for i in range(num_iters):\n",
        "  \n",
        "    val = compute_gradient_logistic(myX, myy, w)  \n",
        "    w = w*(1-alpha*(mylambda/m)) - alpha * val              \n",
        "  \n",
        "    if i<100000:     \n",
        "        d_list.append(computeCost(w, myX, myy, mylambda))\n",
        "\n",
        "    if i% math.ceil(num_iters / 10) == 0:\n",
        "        print(f\"Iteration {i:4d}: Cost {d_list[-1]}   \")\n",
        "  return w, min(d_list)\n",
        "    \n",
        "theta, mincost = optimizeRegularizedTheta(initial_theta,XX,y, 0.1, 100)\n",
        "print(theta.shape)\n",
        "print(mincost)"
      ],
      "metadata": {
        "colab": {
          "base_uri": "https://localhost:8080/"
        },
        "id": "e534SYszjd6V",
        "outputId": "b91239d9-ea22-412c-9e1b-0646ed9fab7a"
      },
      "execution_count": 25,
      "outputs": [
        {
          "output_type": "stream",
          "name": "stdout",
          "text": [
            "(45,)\n",
            "Iteration    0: Cost 0.6914929608470252   \n",
            "Iteration   10: Cost 0.6775203445186196   \n",
            "Iteration   20: Cost 0.6666640333480375   \n",
            "Iteration   30: Cost 0.6576047050899368   \n",
            "Iteration   40: Cost 0.6496830141298244   \n",
            "Iteration   50: Cost 0.6425530352786331   \n",
            "Iteration   60: Cost 0.6360192327933389   \n",
            "Iteration   70: Cost 0.6299609717349424   \n",
            "Iteration   80: Cost 0.6242971432254854   \n",
            "Iteration   90: Cost 0.6189690990335762   \n",
            "(45,)\n",
            "0.6144237302084337\n"
          ]
        }
      ]
    },
    {
      "cell_type": "code",
      "source": [
        "def compute_gradient_logistic(X, y, w):\n",
        "  m,n = X.shape\n",
        "  val = np.zeros((n,))\n",
        "\n",
        "  for i in range(m):\n",
        "    f_wb_i = sigmoid(np.dot(X[i], w))               \n",
        "    err_i  = f_wb_i  - y[i]                    \n",
        "    for j in range(n):\n",
        "      val[j] = val[j] + err_i * X[i,j]        \n",
        "  val = val/m                                  \n",
        "      \n",
        "  return val"
      ],
      "metadata": {
        "id": "LaRdY2ggbedm"
      },
      "execution_count": 26,
      "outputs": []
    },
    {
      "cell_type": "code",
      "source": [
        "def plotBoundary(mytheta, myX, myy, mylambda=0.):\n",
        "    \"\"\"\n",
        "    Function to plot the decision boundary for arbitrary theta, X, y, lambda value\n",
        "    Inside of this function is feature mapping, and the minimization routine.\n",
        "    It works by making a grid of x1 (\"xvals\") and x2 (\"yvals\") points,\n",
        "    And for each, computing whether the hypothesis classifies that point as\n",
        "    True or False. Then, a contour is drawn with a built-in pyplot function.\n",
        "    \"\"\"\n",
        "    alpha = .1\n",
        "    iters = 1000\n",
        "    \n",
        "    theta, mincost = optimizeRegularizedTheta(mytheta,myX,myy,alpha, iters,mylambda)\n",
        "    print(theta, '\\n\\nCost : ', mincost, '\\n \\n ')\n",
        "    xvals = np.linspace(-1,1.5,50)\n",
        "    yvals = np.linspace(-1,1.5,50)\n",
        "    zvals = np.zeros((len(xvals),len(yvals)))\n",
        "    for i in range(len(xvals)):\n",
        "        for j in range(len(yvals)):\n",
        "            myfeaturesij = mapFeature(np.array([xvals[i]]),np.array([yvals[j]]))\n",
        "            zvals[i][j] = np.dot(theta,myfeaturesij.T)\n",
        "            # print(type(zvals), zvals.shape)\n",
        "    zvals = zvals.transpose()\n",
        "\n",
        "    u, v = np.meshgrid( xvals, yvals )\n",
        "    mycontour = plt.contour( xvals, yvals, zvals, [0])\n",
        "    #Kind of a hacky way to display a text on top of the decision boundary\n",
        "    myfmt = { 0:'Lambda = %f'%mylambda}\n",
        "    plt.clabel(mycontour, inline=1, fontsize=15, fmt=myfmt)\n",
        "    plt.title(\"Decision Boundary\")"
      ],
      "metadata": {
        "id": "MYvWjnXxhuc4"
      },
      "execution_count": 27,
      "outputs": []
    },
    {
      "cell_type": "code",
      "source": [
        "plt.figure(figsize=(12,10))\n",
        "plt.subplot(221)\n",
        "plotData(data, 'Microchip Test 1', 'Microchip Test 2', 'y = 1', 'y = 0')\n",
        "plotBoundary(initial_theta,XX,y,0.)\n",
        "\n",
        "plt.subplot(222)\n",
        "plotData(data, 'Microchip Test 1', 'Microchip Test 2', 'y = 1', 'y = 0')\n",
        "plotBoundary(initial_theta,XX,y,1.)\n",
        "\n",
        "plt.subplot(223)\n",
        "plotData(data, 'Microchip Test 1', 'Microchip Test 2', 'y = 1', 'y = 0')\n",
        "plotBoundary(initial_theta,XX,y,10.)\n",
        "\n",
        "plt.subplot(224)\n",
        "plotData(data, 'Microchip Test 1', 'Microchip Test 2', 'y = 1', 'y = 0')\n",
        "plotBoundary(initial_theta,XX,y,50.)"
      ],
      "metadata": {
        "colab": {
          "base_uri": "https://localhost:8080/"
        },
        "id": "Xi1vPN6lh61l",
        "outputId": "e5608032-9ed1-483e-faf0-a5f38f9acc89"
      },
      "execution_count": null,
      "outputs": [
        {
          "output_type": "stream",
          "name": "stdout",
          "text": [
            "Iteration    0: Cost 0.6914929608470252   \n",
            "Iteration  100: Cost 0.6139320486985876   \n",
            "Iteration  200: Cost 0.5740852663079716   \n",
            "Iteration  300: Cost 0.5452905416509011   \n",
            "Iteration  400: Cost 0.5227507692531224   \n",
            "Iteration  500: Cost 0.5044471319207976   \n",
            "Iteration  600: Cost 0.48922859549703274   \n",
            "Iteration  700: Cost 0.47634735205041284   \n",
            "Iteration  800: Cost 0.46528638629824526   \n",
            "Iteration  900: Cost 0.4556743499864037   \n",
            "[ 1.28297461  0.72831649  1.36491833 -2.09132828 -0.93686576 -1.22761792\n",
            "  0.19072431 -0.40344533 -0.39975398 -0.07837714 -1.55941347 -0.08875276\n",
            " -0.65848462 -0.28753193 -1.14940499 -0.21494578 -0.24097696 -0.07583021\n",
            " -0.2924084  -0.32030148 -0.43779177 -1.12095521  0.00299405 -0.32258954\n",
            " -0.00381255 -0.34959902 -0.1537389  -0.94291699 -0.36048    -0.12634256\n",
            " -0.05921805 -0.12615194 -0.04922914 -0.18950797 -0.21182754 -0.53660547\n",
            " -0.83445846  0.01550611 -0.1742484   0.00366218 -0.14100112  0.00290321\n",
            " -0.21100339 -0.09953179 -0.79398814] \n",
            "\n",
            "Cost :  0.44731611915397945 \n",
            " \n",
            " \n",
            "Iteration    0: Cost 0.691493664845154   \n",
            "Iteration  100: Cost 0.6190249824228551   \n",
            "Iteration  200: Cost 0.5877241085137354   \n",
            "Iteration  300: Cost 0.5686226617997658   \n"
          ]
        }
      ]
    }
  ]
}